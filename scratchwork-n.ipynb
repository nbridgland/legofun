{
 "cells": [
  {
   "cell_type": "code",
   "execution_count": 62,
   "metadata": {
    "collapsed": true
   },
   "outputs": [],
   "source": [
    "import csv\n",
    "import pandas as pd"
   ]
  },
  {
   "cell_type": "code",
   "execution_count": 63,
   "metadata": {
    "collapsed": true
   },
   "outputs": [],
   "source": [
    "filenames = ['colors.csv', 'inventories.csv', 'inventory_parts.csv', 'inventory_sets.csv', 'part_categories.csv', 'parts.csv', 'sets.csv', 'themes.csv']\n",
    "\n",
    "with open(filenames[0]) as datafile:\n",
    "    colors = pd.read_csv(datafile)\n",
    "with open(filenames[1]) as datafile:\n",
    "    inventories = pd.read_csv(datafile)\n",
    "with open(filenames[2]) as datafile:\n",
    "    inventory_parts = pd.read_csv(datafile)\n",
    "with open(filenames[3]) as datafile:\n",
    "    inventory_sets = pd.read_csv(datafile)\n",
    "with open(filenames[4]) as datafile:\n",
    "    part_categories = pd.read_csv(datafile)\n",
    "with open(filenames[5]) as datafile:\n",
    "    parts = pd.read_csv(datafile)\n",
    "with open(filenames[6]) as datafile:\n",
    "    sets = pd.read_csv(datafile)\n",
    "with open(filenames[7]) as datafile:\n",
    "    themes = pd.read_csv(datafile)"
   ]
  },
  {
   "cell_type": "code",
   "execution_count": 64,
   "metadata": {
    "collapsed": true
   },
   "outputs": [],
   "source": [
    "sets = pd.merge(sets, themes, left_on = 'theme_id', right_on = 'id')"
   ]
  },
  {
   "cell_type": "code",
   "execution_count": 65,
   "metadata": {
    "collapsed": true
   },
   "outputs": [],
   "source": [
    "sets = sets.drop('id', axis = 1)\n",
    "sets = sets.set_index(['set_num'])\n",
    "sets.columns = ['setname', 'year', 'theme_id', 'num_parts', 'theme_name', 'parent_id']"
   ]
  },
  {
   "cell_type": "code",
   "execution_count": 66,
   "metadata": {},
   "outputs": [],
   "source": [
    "inventory_parts = pd.merge(inventory_parts, colors, left_on = 'color_id', right_on = 'id')"
   ]
  },
  {
   "cell_type": "code",
   "execution_count": 67,
   "metadata": {},
   "outputs": [],
   "source": [
    "inventory_parts = inventory_parts.drop('id', axis = 1)\n",
    "inventory_parts.columns=['inventory_id', 'part_num', 'color_id', 'quantity', 'is_spare', 'color_name', 'rgb', 'is_trans']"
   ]
  },
  {
   "cell_type": "code",
   "execution_count": 48,
   "metadata": {},
   "outputs": [
    {
     "data": {
      "text/plain": [
       "4"
      ]
     },
     "execution_count": 48,
     "metadata": {},
     "output_type": "execute_result"
    }
   ],
   "source": [
    "int(colorgroups.get_group(191)['quantity'].sum())"
   ]
  },
  {
   "cell_type": "code",
   "execution_count": 69,
   "metadata": {},
   "outputs": [],
   "source": [
    "trial=inventory_sets\n",
    "inventoryids = inventory_parts['inventory_id'].unique()\n",
    "colornames = colors['name'].unique()\n",
    "groupedinventory = inventory_parts.groupby('inventory_id')\n",
    "for k in inventoryids:\n",
    "    colorgroups = groupedinventory.get_group(k).groupby('color_name')\n",
    "    for name in colornames:\n",
    "        try: trial[name] = int(colorgroups.get_group(191)['quantity'].sum())\n",
    "        except KeyError:\n",
    "            pass"
   ]
  },
  {
   "cell_type": "code",
   "execution_count": 77,
   "metadata": {},
   "outputs": [
    {
     "data": {
      "text/plain": [
       "10"
      ]
     },
     "execution_count": 77,
     "metadata": {},
     "output_type": "execute_result"
    }
   ],
   "source": [
    "groupedinventory = inventory_parts.groupby('inventory_id')\n",
    "dummy = groupedinventory.get_group(3).groupby('color_name')\n",
    "int(dummy.get_group('Bright Pink')['quantity'].sum())"
   ]
  },
  {
   "cell_type": "code",
   "execution_count": null,
   "metadata": {
    "collapsed": true
   },
   "outputs": [],
   "source": []
  }
 ],
 "metadata": {
  "kernelspec": {
   "display_name": "Python 2",
   "language": "python",
   "name": "python2"
  },
  "language_info": {
   "codemirror_mode": {
    "name": "ipython",
    "version": 2
   },
   "file_extension": ".py",
   "mimetype": "text/x-python",
   "name": "python",
   "nbconvert_exporter": "python",
   "pygments_lexer": "ipython2",
   "version": "2.7.13"
  }
 },
 "nbformat": 4,
 "nbformat_minor": 2
}
